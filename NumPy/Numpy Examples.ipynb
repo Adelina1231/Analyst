{
 "cells": [
  {
   "cell_type": "code",
   "execution_count": 2,
   "id": "b93c0449-d447-4d8a-a812-e0a6b6e5417d",
   "metadata": {},
   "outputs": [],
   "source": [
    "import numpy as np"
   ]
  },
  {
   "cell_type": "markdown",
   "id": "f6085405-21a5-4748-af8b-f11f4b950691",
   "metadata": {},
   "source": [
    "## 1. Calculating total revenue"
   ]
  },
  {
   "cell_type": "code",
   "execution_count": 2,
   "id": "a6b3856b-f0f3-4545-ba69-7c6ce6cce495",
   "metadata": {},
   "outputs": [
    {
     "data": {
      "text/plain": [
       "array([19.99, 29.99, 14.99,  9.99, 24.99])"
      ]
     },
     "execution_count": 2,
     "metadata": {},
     "output_type": "execute_result"
    }
   ],
   "source": [
    "prices = np.array([19.99, 29.99, 14.99, 9.99, 24.99])\n",
    "prices"
   ]
  },
  {
   "cell_type": "code",
   "execution_count": 4,
   "id": "b35ad9c6-3f62-412b-8581-0e7a6fbc009d",
   "metadata": {},
   "outputs": [
    {
     "data": {
      "text/plain": [
       "array([10,  5,  8, 12,  3])"
      ]
     },
     "execution_count": 4,
     "metadata": {},
     "output_type": "execute_result"
    }
   ],
   "source": [
    "quantities = np.array([10, 5, 8, 12, 3])\n",
    "quantities"
   ]
  },
  {
   "cell_type": "code",
   "execution_count": 5,
   "id": "b5ed4da9-47b5-4d6e-a314-95e712c3942a",
   "metadata": {},
   "outputs": [
    {
     "data": {
      "text/plain": [
       "array([199.9 , 149.95, 119.92, 119.88,  74.97])"
      ]
     },
     "execution_count": 5,
     "metadata": {},
     "output_type": "execute_result"
    }
   ],
   "source": [
    "revenue_rer_product = prices * quantities\n",
    "revenue_rer_product"
   ]
  },
  {
   "cell_type": "code",
   "execution_count": 6,
   "id": "2b5703b0-47b1-4913-a33e-894918d0cce9",
   "metadata": {},
   "outputs": [
    {
     "data": {
      "text/plain": [
       "664.62"
      ]
     },
     "execution_count": 6,
     "metadata": {},
     "output_type": "execute_result"
    }
   ],
   "source": [
    "total_revenue = np.sum(revenue_rer_product)\n",
    "total_revenue"
   ]
  },
  {
   "cell_type": "markdown",
   "id": "b2dffda2-9967-4ea7-9840-dc20276cfd55",
   "metadata": {},
   "source": [
    "## 2. Analyzing blog post stats"
   ]
  },
  {
   "cell_type": "code",
   "execution_count": 7,
   "id": "7e398120-6935-4f18-a5f2-a0ba063b74f7",
   "metadata": {},
   "outputs": [
    {
     "data": {
      "text/plain": [
       "array([1000,  500,  800, 1200,  300,  600])"
      ]
     },
     "execution_count": 7,
     "metadata": {},
     "output_type": "execute_result"
    }
   ],
   "source": [
    "views = np.array([1000, 500, 800, 1200, 300, 600])\n",
    "views"
   ]
  },
  {
   "cell_type": "code",
   "execution_count": 9,
   "id": "6a8136cc-7146-42f7-862c-352c23300d06",
   "metadata": {},
   "outputs": [
    {
     "data": {
      "text/plain": [
       "1200"
      ]
     },
     "execution_count": 9,
     "metadata": {},
     "output_type": "execute_result"
    }
   ],
   "source": [
    "max_views = np.max(views)\n",
    "max_views"
   ]
  },
  {
   "cell_type": "code",
   "execution_count": 10,
   "id": "dd08a9bd-347f-47b2-b1e4-b4df8858109e",
   "metadata": {},
   "outputs": [
    {
     "data": {
      "text/plain": [
       "300"
      ]
     },
     "execution_count": 10,
     "metadata": {},
     "output_type": "execute_result"
    }
   ],
   "source": [
    "min_views = np.min(views)\n",
    "min_views"
   ]
  },
  {
   "cell_type": "code",
   "execution_count": 11,
   "id": "ee4efd1a-0fb5-4eee-8823-683e5ebb366b",
   "metadata": {},
   "outputs": [
    {
     "data": {
      "text/plain": [
       "733.33"
      ]
     },
     "execution_count": 11,
     "metadata": {},
     "output_type": "execute_result"
    }
   ],
   "source": [
    "average_views = np.round(np.mean(views), 2)\n",
    "average_views"
   ]
  },
  {
   "cell_type": "markdown",
   "id": "9d2f0096-c1f8-410e-98ad-a47e6c29efa1",
   "metadata": {},
   "source": [
    "## 3. Splitting order into batches"
   ]
  },
  {
   "cell_type": "code",
   "execution_count": 14,
   "id": "265542c1-aded-4051-9a9a-7f6351a73fab",
   "metadata": {},
   "outputs": [
    {
     "data": {
      "text/plain": [
       "array([1001, 1002, 1003, 1004, 1005, 1006, 1007, 1008])"
      ]
     },
     "execution_count": 14,
     "metadata": {},
     "output_type": "execute_result"
    }
   ],
   "source": [
    "order_ids = np.array([1001, 1002, 1003, 1004, 1005, 1006, 1007, 1008])\n",
    "order_ids"
   ]
  },
  {
   "cell_type": "code",
   "execution_count": 15,
   "id": "d06d0664-483e-4d21-b0ed-09f410d8a992",
   "metadata": {},
   "outputs": [
    {
     "data": {
      "text/plain": [
       "[array([1001, 1002]),\n",
       " array([1003, 1004]),\n",
       " array([1005, 1006]),\n",
       " array([1007, 1008])]"
      ]
     },
     "execution_count": 15,
     "metadata": {},
     "output_type": "execute_result"
    }
   ],
   "source": [
    "batches = np.split(order_ids, 4)\n",
    "batches"
   ]
  },
  {
   "cell_type": "code",
   "execution_count": 20,
   "id": "391e15ed-32b2-41c8-b9bd-afbd3a3f0735",
   "metadata": {},
   "outputs": [
    {
     "name": "stdout",
     "output_type": "stream",
     "text": [
      "Batch 0\n",
      "First element in the batch 1001\n",
      "Second element in the batch 1002\n",
      "Batch 1\n",
      "First element in the batch 1003\n",
      "Second element in the batch 1004\n",
      "Batch 2\n",
      "First element in the batch 1005\n",
      "Second element in the batch 1006\n",
      "Batch 3\n",
      "First element in the batch 1007\n",
      "Second element in the batch 1008\n"
     ]
    }
   ],
   "source": [
    "for i, batch in enumerate(batches):\n",
    "    print('Batch', i)\n",
    "    print('First element in the batch', batch[0])\n",
    "    print('Second element in the batch', batch[1])\n",
    "    "
   ]
  },
  {
   "cell_type": "markdown",
   "id": "0bd3affa-aa3a-4e7d-920c-d6a45f0ce338",
   "metadata": {},
   "source": [
    "## 4. Categorizing product rating"
   ]
  },
  {
   "cell_type": "code",
   "execution_count": 21,
   "id": "2ecbafba-403f-4e7a-8cb1-b631e01cd9ab",
   "metadata": {},
   "outputs": [
    {
     "data": {
      "text/plain": [
       "array([4.5, 3.2, 2.8, 5. , 4.1, 3.9, 4.7])"
      ]
     },
     "execution_count": 21,
     "metadata": {},
     "output_type": "execute_result"
    }
   ],
   "source": [
    "ratings = np.array([4.5, 3.2, 2.8, 5.0, 4.1, 3.9, 4.7])\n",
    "ratings"
   ]
  },
  {
   "cell_type": "code",
   "execution_count": 23,
   "id": "7c12d9fd-4373-4e1f-894e-9c24a88c7b3e",
   "metadata": {},
   "outputs": [
    {
     "data": {
      "text/plain": [
       "array([4.5, 5. , 4.1, 4.7])"
      ]
     },
     "execution_count": 23,
     "metadata": {},
     "output_type": "execute_result"
    }
   ],
   "source": [
    "positive_ratings = ratings[ratings >= 4.0]\n",
    "positive_ratings"
   ]
  },
  {
   "cell_type": "code",
   "execution_count": 24,
   "id": "ed7b7d00-2806-49f0-b817-9d3f82e0ea99",
   "metadata": {},
   "outputs": [
    {
     "data": {
      "text/plain": [
       "array([3.2, 2.8, 3.9])"
      ]
     },
     "execution_count": 24,
     "metadata": {},
     "output_type": "execute_result"
    }
   ],
   "source": [
    "negative_ratings = ratings[ratings < 4.0]\n",
    "negative_ratings"
   ]
  },
  {
   "cell_type": "markdown",
   "id": "d09204c6-4469-45fb-9eee-4c606cc10376",
   "metadata": {},
   "source": [
    "## 5. Calculate total and average quantities sold"
   ]
  },
  {
   "cell_type": "code",
   "execution_count": 7,
   "id": "e6a08f89-617b-4075-9972-3614cd73fb81",
   "metadata": {},
   "outputs": [
    {
     "data": {
      "text/plain": [
       "array([[ 5,  3,  2,  7],\n",
       "       [10,  6,  3,  9]])"
      ]
     },
     "execution_count": 7,
     "metadata": {},
     "output_type": "execute_result"
    }
   ],
   "source": [
    "# each column is specific product (we have 4 products)\n",
    "# each row is specific order (we have 2 orders)\n",
    "order_qts = np.array([[5, 3, 2, 7], [10, 6, 3, 9]])\n",
    "order_qts"
   ]
  },
  {
   "cell_type": "code",
   "execution_count": 5,
   "id": "963c5764-d48b-4321-a03f-23eac7d26cf9",
   "metadata": {},
   "outputs": [
    {
     "data": {
      "text/plain": [
       "45"
      ]
     },
     "execution_count": 5,
     "metadata": {},
     "output_type": "execute_result"
    }
   ],
   "source": [
    "total_quatities_sold = np.sum(order_qts)\n",
    "total_quatities_sold"
   ]
  },
  {
   "cell_type": "code",
   "execution_count": 8,
   "id": "14b202c1-fbfb-4a4d-adce-623f2a1f1f57",
   "metadata": {},
   "outputs": [
    {
     "data": {
      "text/plain": [
       "array([15,  9,  5, 16])"
      ]
     },
     "execution_count": 8,
     "metadata": {},
     "output_type": "execute_result"
    }
   ],
   "source": [
    "# quantities of the sales per product\n",
    "total_quatities_sold = np.sum(order_qts, axis=0)\n",
    "total_quatities_sold"
   ]
  },
  {
   "cell_type": "code",
   "execution_count": 9,
   "id": "43fd7360-eaa9-4aa4-81d2-9a8b72db29f1",
   "metadata": {},
   "outputs": [
    {
     "data": {
      "text/plain": [
       "array([17, 28])"
      ]
     },
     "execution_count": 9,
     "metadata": {},
     "output_type": "execute_result"
    }
   ],
   "source": [
    "# quantities of the sales per order\n",
    "total_products_per_order = np.sum(order_qts, axis=1)\n",
    "total_products_per_order"
   ]
  },
  {
   "cell_type": "code",
   "execution_count": 12,
   "id": "0e5c6fb2-4c0b-4144-b26b-cf17979d25b5",
   "metadata": {},
   "outputs": [
    {
     "data": {
      "text/plain": [
       "array([7.5, 4.5, 2.5, 8. ])"
      ]
     },
     "execution_count": 12,
     "metadata": {},
     "output_type": "execute_result"
    }
   ],
   "source": [
    "# average quantities per product across all orders\n",
    "average_quantities_sold = np.mean(order_qts, axis=0)\n",
    "average_quantities_sold"
   ]
  },
  {
   "cell_type": "markdown",
   "id": "d6cf44ff-8513-414b-b7ea-8aa8c0be85b4",
   "metadata": {},
   "source": [
    "## 6. Calculate average product rating and maximum rating per category"
   ]
  },
  {
   "cell_type": "code",
   "execution_count": 13,
   "id": "ae057bfb-7adc-46a1-bafd-13e4c6f6f52a",
   "metadata": {},
   "outputs": [
    {
     "data": {
      "text/plain": [
       "array([[4.5, 3.2, 2.5, 5. ],\n",
       "       [4.3, 3.8, 1. , 4.8],\n",
       "       [2. , 3.6, 4.7, 0.5]])"
      ]
     },
     "execution_count": 13,
     "metadata": {},
     "output_type": "execute_result"
    }
   ],
   "source": [
    "# each row is one product\n",
    "# each product is rated in 4 categories\n",
    "product_ratings = np. array([\n",
    "    [4.5, 3.2, 2.5, 5.0],\n",
    "    [4.3, 3.8, 1.0, 4.8],\n",
    "    [2.0, 3.6, 4.7, 0.5]\n",
    "])\n",
    "product_ratings"
   ]
  },
  {
   "cell_type": "code",
   "execution_count": 19,
   "id": "5dea329b-3be7-4957-b09e-2b77b57186f0",
   "metadata": {},
   "outputs": [
    {
     "data": {
      "text/plain": [
       "array([3.6 , 3.53, 2.73, 3.43])"
      ]
     },
     "execution_count": 19,
     "metadata": {},
     "output_type": "execute_result"
    }
   ],
   "source": [
    "# average rating in each category\n",
    "average_rating_per_category = np.round(np.mean(product_ratings, axis=0), 2)\n",
    "average_rating_per_category"
   ]
  },
  {
   "cell_type": "code",
   "execution_count": 20,
   "id": "d14b04b8-92a1-4232-a566-5f193649ef18",
   "metadata": {},
   "outputs": [
    {
     "data": {
      "text/plain": [
       "array([3.8 , 3.47, 2.7 ])"
      ]
     },
     "execution_count": 20,
     "metadata": {},
     "output_type": "execute_result"
    }
   ],
   "source": [
    "# average rating for each product\n",
    "average_rating_per_product = np.round(np.mean(product_ratings, axis=1), 2)\n",
    "average_rating_per_product"
   ]
  },
  {
   "cell_type": "code",
   "execution_count": 21,
   "id": "8cd1a8c3-5959-4d35-8ada-cee0a50e3467",
   "metadata": {},
   "outputs": [
    {
     "data": {
      "text/plain": [
       "array([4.5, 3.8, 4.7, 5. ])"
      ]
     },
     "execution_count": 21,
     "metadata": {},
     "output_type": "execute_result"
    }
   ],
   "source": [
    "# maximum rating in each category\n",
    "max_rating_per_category = np.max(product_ratings, axis=0)\n",
    "max_rating_per_category"
   ]
  },
  {
   "cell_type": "markdown",
   "id": "29060d82-349a-4570-a095-7da237b69539",
   "metadata": {},
   "source": [
    "## 7. Generation of the sample stock data"
   ]
  },
  {
   "cell_type": "code",
   "execution_count": 22,
   "id": "e49b5902-6483-4de5-8216-a5cf1c1ad541",
   "metadata": {},
   "outputs": [],
   "source": [
    "companies = ['Google', 'Microsoft', 'Apple']\n",
    "days = ['Mon 1 April', 'Tue 2 April']\n",
    "price_types = ['Open', 'Close', 'High', 'Low']"
   ]
  },
  {
   "cell_type": "code",
   "execution_count": 26,
   "id": "aad62052-aadd-468d-a502-f83f2e0e942a",
   "metadata": {},
   "outputs": [
    {
     "data": {
      "text/plain": [
       "array([[[0.417, 0.72 , 0.   , 0.302],\n",
       "        [0.147, 0.092, 0.186, 0.346]],\n",
       "\n",
       "       [[0.397, 0.539, 0.419, 0.685],\n",
       "        [0.204, 0.878, 0.027, 0.67 ]],\n",
       "\n",
       "       [[0.417, 0.559, 0.14 , 0.198],\n",
       "        [0.801, 0.968, 0.313, 0.692]]])"
      ]
     },
     "execution_count": 26,
     "metadata": {},
     "output_type": "execute_result"
    }
   ],
   "source": [
    "# shape will be (3, 2, 4)\n",
    "np.random.seed(1)\n",
    "stock_prices = np.round(np.random.random((len(companies), len(days), len(price_types))), 3)\n",
    "stock_prices"
   ]
  },
  {
   "cell_type": "code",
   "execution_count": 32,
   "id": "cd5bde72-9d57-476e-b516-9495c51fdb38",
   "metadata": {},
   "outputs": [
    {
     "name": "stdout",
     "output_type": "stream",
     "text": [
      "Stock prices for the Google:\n",
      "Day: Mon 1 April\n",
      "Open Price: 0.417\n",
      "Close Price: 0.72\n",
      "High Price: 0.0\n",
      "Low Price: 0.302\n",
      "\n",
      "Day: Tue 2 April\n",
      "Open Price: 0.147\n",
      "Close Price: 0.092\n",
      "High Price: 0.186\n",
      "Low Price: 0.346\n",
      "\n",
      "\n",
      "Stock prices for the Microsoft:\n",
      "Day: Mon 1 April\n",
      "Open Price: 0.397\n",
      "Close Price: 0.539\n",
      "High Price: 0.419\n",
      "Low Price: 0.685\n",
      "\n",
      "Day: Tue 2 April\n",
      "Open Price: 0.204\n",
      "Close Price: 0.878\n",
      "High Price: 0.027\n",
      "Low Price: 0.67\n",
      "\n",
      "\n",
      "Stock prices for the Apple:\n",
      "Day: Mon 1 April\n",
      "Open Price: 0.417\n",
      "Close Price: 0.559\n",
      "High Price: 0.14\n",
      "Low Price: 0.198\n",
      "\n",
      "Day: Tue 2 April\n",
      "Open Price: 0.801\n",
      "Close Price: 0.968\n",
      "High Price: 0.313\n",
      "Low Price: 0.692\n",
      "\n",
      "\n"
     ]
    }
   ],
   "source": [
    "for index_axis_0, company in enumerate(companies):\n",
    "    print(f'Stock prices for the {company}:')\n",
    "    for index_axis_1, day in enumerate(days):\n",
    "        print(f'Day: {day}')\n",
    "        for index_axis_2, price in enumerate(price_types):\n",
    "            print(f'{price} Price: {stock_prices[index_axis_0, index_axis_1, index_axis_2]}')\n",
    "        print()\n",
    "    print()"
   ]
  }
 ],
 "metadata": {
  "kernelspec": {
   "display_name": "Python 3 (ipykernel)",
   "language": "python",
   "name": "python3"
  },
  "language_info": {
   "codemirror_mode": {
    "name": "ipython",
    "version": 3
   },
   "file_extension": ".py",
   "mimetype": "text/x-python",
   "name": "python",
   "nbconvert_exporter": "python",
   "pygments_lexer": "ipython3",
   "version": "3.11.7"
  }
 },
 "nbformat": 4,
 "nbformat_minor": 5
}
